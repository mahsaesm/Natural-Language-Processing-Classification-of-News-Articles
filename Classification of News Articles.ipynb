{
 "cells": [
  {
   "attachments": {},
   "cell_type": "markdown",
   "metadata": {},
   "source": [
    "#  Natural Language Processing: Classification of News Articles\n"
   ]
  },
  {
   "cell_type": "code",
   "execution_count": 1,
   "metadata": {},
   "outputs": [],
   "source": [
    "import numpy as np\n",
    "import matplotlib.pyplot as plt\n",
    "import pandas as pd\n",
    "import re\n",
    "import seaborn as sns\n",
    "import nltk\n",
    "from nltk.corpus import stopwords\n",
    "from sklearn.metrics import confusion_matrix, classification_report, accuracy_score, classification_report\n",
    "from sklearn.model_selection import train_test_split\n",
    "from tensorflow.keras.layers import (\n",
    "    TextVectorization,\n",
    "    Embedding,\n",
    "    LSTM,\n",
    "    Bidirectional,\n",
    "    Dense,\n",
    "    Embedding,\n",
    ")\n",
    "import tensorflow.keras\n",
    "from tensorflow.keras.models import Sequential\n",
    "from sklearn.feature_selection import SelectKBest, f_classif\n",
    "from sklearn.feature_extraction.text import TfidfVectorizer\n",
    "from sklearn.neighbors import KNeighborsClassifier"
   ]
  },
  {
   "attachments": {},
   "cell_type": "markdown",
   "metadata": {},
   "source": [
    "# 1. Data preparation\n",
    "Import data. "
   ]
  },
  {
   "cell_type": "code",
   "execution_count": 2,
   "metadata": {},
   "outputs": [
    {
     "name": "stdout",
     "output_type": "stream",
     "text": [
      "   Class Index                                              Title  \\\n",
      "0            3  Wall St. Bears Claw Back Into the Black (Reuters)   \n",
      "1            3  Carlyle Looks Toward Commercial Aerospace (Reu...   \n",
      "2            3    Oil and Economy Cloud Stocks' Outlook (Reuters)   \n",
      "3            3  Iraq Halts Oil Exports from Main Southern Pipe...   \n",
      "4            3  Oil prices soar to all-time record, posing new...   \n",
      "\n",
      "                                         Description  \n",
      "0  Reuters - Short-sellers, Wall Street's dwindli...  \n",
      "1  Reuters - Private investment firm Carlyle Grou...  \n",
      "2  Reuters - Soaring crude prices plus worries\\ab...  \n",
      "3  Reuters - Authorities have halted oil export\\f...  \n",
      "4  AFP - Tearaway world oil prices, toppling reco...  \n"
     ]
    }
   ],
   "source": [
    "# Importing the dataset. Ww usually have a look at the data. Here we simply show the first 5 rows\n",
    "train_data = pd.read_csv(\"train.csv\")\n",
    "test_data = pd.read_csv(\"test.csv\")\n",
    "print(train_data.head(5))"
   ]
  },
  {
   "attachments": {},
   "cell_type": "markdown",
   "metadata": {},
   "source": [
    "Change labels from 1-4 to 0-3"
   ]
  },
  {
   "cell_type": "code",
   "execution_count": 3,
   "metadata": {},
   "outputs": [],
   "source": [
    "# substract 1 from the target variable for both, train and test data\n",
    "train_data[\"Class Index\"] = train_data[\"Class Index\"] - 1\n",
    "test_data[\"Class Index\"] = test_data[\"Class Index\"] - 1\n",
    "label_names = [\"World\", \"Sports\", \"Business\", \"Sci/Tech\"] # 0 is \"World\", 1 is \"Sports\", ..."
   ]
  },
  {
   "attachments": {},
   "cell_type": "markdown",
   "metadata": {},
   "source": [
    "## Preprocessing \n",
    "\n",
    "Lowercase descriptions and clean up non-letter characters.\n",
    "\n",
    "**TODO 1**: Remove the occurences of \"http\" \"href\", \"https\" and \"www\". Also, remove the names of the news agencies (Reuters, AP, ...) from the datasets."
   ]
  },
  {
   "cell_type": "code",
   "execution_count": 4,
   "metadata": {},
   "outputs": [],
   "source": [
    "# Function to preprocess the data\n",
    "def preprocess_text(string):\n",
    "    # TODO 1: REMOVE http (html, ...) and news agencies names (Reuters, AP, ...)\n",
    "    # Removing HTML links and artifacts\n",
    "    html_pattern = r\"http\\S+|https\\S+|www\\.\\S+|&quot;|&lt;|&gt;\"\n",
    "    string = re.sub(html_pattern, '', string)\n",
    "\n",
    "    # Removing news agency names\n",
    "    news_agency_pattern = r\"\\bReuters\\b|\\bAP\\b|\\bBBC\\b|\\bUSATODAY.com\\b|\\bForbes.com\\b|\\bUSATODAY.com\\b|\\bPC World\\b|\\bMacCentral\\b|\\SPACE.com\\b|\\bCNN\\b|\\b&lt;strong&gt;\"  # Extend this list as needed\n",
    "    string = re.sub(news_agency_pattern, '', string)\n",
    "\n",
    "    string = string.lower()\n",
    "    string = string.replace(\"'\", \" \")\n",
    "    string = string.replace(\"\\\\\", \" \")\n",
    "    string = re.sub(r\"[^a-zA-Z]\", \" \", string)\n",
    "    return string\n",
    "train_data[\"Description\"] = train_data[\"Description\"].apply(preprocess_text)\n",
    "test_data[\"Description\"] = test_data[\"Description\"].apply(preprocess_text)"
   ]
  },
  {
   "attachments": {},
   "cell_type": "markdown",
   "metadata": {},
   "source": [
    "Convert dataframes to lists (needed for further functions)."
   ]
  },
  {
   "cell_type": "code",
   "execution_count": 5,
   "metadata": {},
   "outputs": [],
   "source": [
    "train_data_list = train_data[\"Description\"].tolist()\n",
    "test_data_list = test_data[\"Description\"].tolist()\n",
    "train_labels_list = train_data[\"Class Index\"].tolist()\n",
    "test_labels_list = test_data[\"Class Index\"].tolist()"
   ]
  },
  {
   "attachments": {},
   "cell_type": "markdown",
   "metadata": {},
   "source": [
    "Create validation set (taking out 20% of test set)"
   ]
  },
  {
   "cell_type": "code",
   "execution_count": 6,
   "metadata": {},
   "outputs": [],
   "source": [
    "(train_data_list, validation_data_list,\n",
    " train_labels_list, validation_labels_list) = train_test_split(train_data_list, train_labels_list, test_size=0.2, stratify=train_labels_list)"
   ]
  },
  {
   "attachments": {},
   "cell_type": "markdown",
   "metadata": {},
   "source": [
    "### Removing Stop Words\n",
    "Remove stopwords from the *stopword* corpus."
   ]
  },
  {
   "cell_type": "code",
   "execution_count": 14,
   "metadata": {},
   "outputs": [
    {
     "name": "stderr",
     "output_type": "stream",
     "text": [
      "[nltk_data] Downloading package stopwords to\n",
      "[nltk_data]     C:\\Users\\mahsa\\AppData\\Roaming\\nltk_data...\n",
      "[nltk_data]   Package stopwords is already up-to-date!\n"
     ]
    }
   ],
   "source": [
    "nltk.download(\"stopwords\")\n",
    "def remove_stopwords(data_list):\n",
    "    stopword_list = stopwords.words(\"english\")\n",
    "    for i in range(len(data_list)):\n",
    "        data_list[i] = \" \".join(\n",
    "            [word for word in data_list[i].split() if word not in (stopword_list)]\n",
    "        )\n",
    "    return data_list"
   ]
  },
  {
   "cell_type": "code",
   "execution_count": 15,
   "metadata": {},
   "outputs": [],
   "source": [
    "train_data_list = remove_stopwords(train_data_list)\n",
    "validation_data_list = remove_stopwords(validation_data_list)\n",
    "test_data_list = remove_stopwords(test_data_list)"
   ]
  },
  {
   "attachments": {},
   "cell_type": "markdown",
   "metadata": {},
   "source": [
    "### TODO 2: STEMMING\n",
    "Use **Stemming** or **Lemmatization** to grammatical word variations."
   ]
  },
  {
   "cell_type": "code",
   "execution_count": 22,
   "metadata": {},
   "outputs": [],
   "source": [
    "# TODO 2\n",
    "from nltk.tokenize import word_tokenize\n",
    "from nltk.stem import PorterStemmer\n",
    "\n",
    "# Create an instance of PorterStemmer\n",
    "porter = PorterStemmer()\n",
    "\n",
    "def stemSentence(string):\n",
    "    token_words = word_tokenize(string)\n",
    "    stem_sentence = []\n",
    "    for word in token_words:\n",
    "        stem_sentence.append(porter.stem(word))\n",
    "        stem_sentence.append(\" \")\n",
    "    return \"\".join(stem_sentence)\n",
    "\n",
    "# Applying the preprocessing to the datasets\n",
    "train_data[\"Description\"] = train_data[\"Description\"].apply(stemSentence)\n",
    "test_data[\"Description\"] = test_data[\"Description\"].apply(stemSentence)"
   ]
  },
  {
   "attachments": {},
   "cell_type": "markdown",
   "metadata": {},
   "source": [
    "## 2. Recurrent Neural Network classifier with Keras and Tensorflow"
   ]
  },
  {
   "attachments": {},
   "cell_type": "markdown",
   "metadata": {},
   "source": [
    "One-hot encode the labels (0 -> 0001, 1 -> 0010, ...) to match NN classifier head output."
   ]
  },
  {
   "cell_type": "code",
   "execution_count": 23,
   "metadata": {},
   "outputs": [
    {
     "name": "stdout",
     "output_type": "stream",
     "text": [
      "(96000, 4)\n"
     ]
    }
   ],
   "source": [
    "# the labels are of value 0, 1, 2, 3. We need to convert them to one-hot encoded vectors \n",
    "train_labels = tensorflow.keras.utils.to_categorical(np.array(train_labels_list), num_classes=4)\n",
    "validation_labels = tensorflow.keras.utils.to_categorical(np.array(validation_labels_list), num_classes=4)\n",
    "test_labels = tensorflow.keras.utils.to_categorical(np.array(test_labels_list), num_classes=4)\n",
    "print(train_labels.shape)"
   ]
  },
  {
   "attachments": {},
   "cell_type": "markdown",
   "metadata": {},
   "source": [
    "First we use the TextVectorization layer to convert the text to a sequence of integers."
   ]
  },
  {
   "cell_type": "code",
   "execution_count": 24,
   "metadata": {},
   "outputs": [
    {
     "name": "stdout",
     "output_type": "stream",
     "text": [
      "['', '[UNK]', 'said', 'new', 'two', 'us', 'quot', 'year', 'first', 'monday', 'wednesday', 'tuesday', 'one', 'thursday', 'company', 'world', 'friday', 'inc', 'u', 'last', 'york', 'yesterday', 'three', 'president', 'week', 'million', 'corp', 'oil', 'sunday', 'time', 'united', 'would', 'today', 'game', 'government', 'people', 'years', 'could', 'second', 'group', 'iraq', 'percent', 'saturday', 'software', 'night', 'season', 'next', 'third', 'prices', 'day', 'security', 'microsoft', 'stocks', 'quarter', 'team', 'minister', 'internet', 'state', 'announced', 'back', 'four', 'international', 'washington', 'high', 'billion', 'market', 'may', 'news', 'former', 'officials', 'business', 'states', 'says', 'top', 'win', 'month', 'n', 'city', 'record', 'country', 'victory', 'end', 'european', 'largest', 'league', 'american', 'reported', 'open', 'afp', 'technology', 'service', 'computer', 'home', 'sales', 'national', 'five', 'prime', 'federal', 'killed', 'according', 'china', 'research', 'bush', 'co', 'plans', 'expected', 'maker', 'major', 'made', 'target', 'network', 'court', 'least', 'chief', 'companies', 'online', 'london', 'british', 'san', 'cup', 'lead', 'long', 'deal', 'set', 'href', 'bank', 'final', 'based', 'south', 'search', 'series', 'another', 'take', 'report', 'giant', 'since', 'make', 'police', 'industry', 'old', 'election', 'help', 'music', 'leader', 'coach', 'shares', 'john', 'games', 'left', 'run', 'services', 'web', 'sports', 'way', 'agreed', 'space', 'say', 'like', 'red', 'early', 'profit', 'quickinfo', 'fullquote', 'hit', 'iraqi', 'mobile', 'baghdad', 'months', 'system', 'military', 'six', 'india', 'al', 'days', 'north', 'general', 'com', 'get', 'union', 'war', 'rose', 'including', 'many', 'japan', 'biggest', 'ago', 'still', 'executive', 'even', 'half', 'palestinian', 'talks', 'plan', 'wireless', 'official', 'data', 'th', 'big', 'players', 'stock', 'bid', 'much', 'released', 'trade', 'olympic', 'held', 'google', 'latest', 'start', 'phone', 'round', 'growth', 'nuclear', 'move', 'higher', 'part', 'points', 'athens', 'earnings', 'boston', 'australia', 'nation', 'dollar', 'test', 'global', 'west', 'play', 'england', 'strong', 'ahead', 'investors', 'fourth', 'economic', 'weeks', 'users', 'face', 'called', 'street', 'presidential', 'head', 'firm', 'ibm', 'nations', 'public', 'israeli', 'seven', 'nearly', 'cut', 'francisco', 'found', 'football', 'financial', 'man', 'took', 'despite', 'windows', 'around', 'systems', 'fell', 'russian', 'amp', 'free', 'gold', 'go', 'air', 'near', 'foreign', 'also', 'championship', 'number', 'leading', 'reports', 'following', 'used', 'forces', 'agency', 'buy', 'loss', 'chicago', 'use', 'right', 'key', 'quote', 'past', 'troops', 'attack', 'america', 'tokyo', 'p', 'car', 'apple', 'per', 'economy', 'work', 'drug', 'share', 'led', 'press', 'pay', 'sox', 'commission', 'gaza', 'media', 'profile', 'release', 'beat', 'october', 'video', 'version', 'men', 'late', 'several', 'capital', 'player', 'put', 'power', 'september', 'st', 'best', 'rival', 'killing', 'wall', 'e', 'region', 'europe', 'well', 'program', 'russia', 'close', 'offer', 'french', 'workers', 'b', 'conference', 'products', 'support', 'recent', 'agreement', 'making', 'source', 'price', 'whether', 'leaders', 'customers', 'un', 'australian', 'title', 'scientists', 'oracle', 'contract', 'might', 'demand', 'attacks', 'consumer', 'scored', 'jobs', 'house', 'department', 'november', 'eight', 'digital', 'saying', 'party', 'japanese', 'line', 'pakistan', 'crude', 'champion', 'running', 'lower', 'center', 'energy', 'northern', 'little', 'michael', 'meeting', 'hurricane', 'champions', 'decision', 'southern', 'florida', 'manager', 'without', 'told', 'management', 'canadian', 'away', 'low', 'launched', 'star', 'school', 'los', 'race', 'life', 'due', 'good', 'california', 'campaign', 'winning', 'university', 'intel', 'central', 'political', 'peace', 'angeles', 'place', 'give', 'office', 'quarterly', 'field', 'board', 'results', 'across', 'taking', 'britain', 'army', 'secretary', 'straight', 'defense', 'morning', 'linux', 'israel', 'launch', 'interest', 'using', 'future', 'site', 'chairman', 'france', 'become', 'peoplesoft', 'bomb', 'information', 'club', 'match', 'nasa', 'iran', 'houston', 'costs', 'weekend', 'showed', 'case', 'shot', 'elections', 'uk', 'times', 'keep', 'communications', 'history', 'oct', 'charges', 'senior', 'women', 'show', 'health', 'operating', 'posted', 'death', 'yankees', 'warned', 'lost', 'among', 'stores', 'job', 'better', 'sun', 'korea', 'militants', 'television', 'mark', 'signed', 'return', 'money', 'earlier', 'exchange', 'trading', 'cost', 'come', 'grand', 'force', 'ever', 'bill', 'kerry', 'almost', 'david', 'chip', 'rise', 'net', 'east', 'going', 'action', 'reserve', 'baseball', 'stadium', 'small', 'post', 'thousands', 'accused', 'real', 'increase', 'toronto', 'less', 'anti', 'division', 'began', 'fans', 'amid', 'nine', 'came', 'ltd', 'likely', 'association', 'ended', 'texas', 'nov', 'got', 'helped', 'canada', 'behind', 'barrel', 'administration', 'sell', 'rate', 'opening', 'full', 'mail', 'died', 'offering', 'yet', 'control', 'august', 'arafat', 'paris', 'battle', 'germany', 'white', 'performance', 'possible', 'judge', 'trial', 'members', 'growing', 'cash', 'point', 'medal', 'food', 'already', 'tax', 'store', 'williams', 'darfur', 'see', 'hours', 'access', 'countries', 'hopes', 'german', 'far', 'rates', 'western', 'term', 'career', 'bankruptcy', 'study', 'production', 'fall', 'sept', 'revenue', 'chinese', 'product', 'afghanistan', 'font', 'hard', 'networks', 'opposition', 'injured', 'trying', 'look', 'authorities', 'gave', 'yards', 'human', 'corporate', 'markets', 'efforts', 'violence', 'step', 'george', 'takeover', 'investment', 'change', 'analysts', 'speed', 'failed', 'personal', 'local', 'retailer', 'computers', 'soldiers', 'paul', 'jones', 'competition', 'giants', 'tour', 'sudan', 'reached', 'soon', 'within', 'size', 'hostage', 'radio', 'starting', 'pc', 'law', 'concerns', 'engine', 'outside', 'vote', 'euro', 'airlines', 'african', 'profits', 'known', 'strike', 'manchester', 'server', 'selling', 'fund', 'begin', 'taken', 'short', 'development', 'airline', 'yasser', 'popular', 'insurance', 'continued', 'quarterback', 'main', 'raised', 'gas', 'council', 'aimed', 'fire', 'unit', 'phones', 'devices', 'weapons', 'executives', 'stop', 'bay', 'looking', 'desktop', 'sony', 'large', 'filed', 'fight', 'africa', 'designed', 'cp', 'meet', 'great', 'enough', 'consumers', 'others', 'indian', 'electronics', 'coast', 'beijing', 'teams', 'side', 'went', 'dead', 'reach', 'olympics', 'americans', 'need', 'miami', 'must', 'moscow', 'tech', 'children', 'legal', 'area', 'toward', 'level', 'effort', 'cell', 'spending', 'finally', 'spain', 'seattle', 'securities', 'powerful', 'operations', 'coming', 'claims', 'tony', 'private', 'annual', 'file', 'family', 'fighting', 'continue', 'green', 'hold', 'working', 'forecast', 'madrid', 'fired', 'businesses', 'station', 'name', 'researchers', 'rebel', 'rally', 'heart', 'find', 'provide', 'rights', 'calif', 'pressure', 'list', 'yahoo', 'drive', 'getting', 'fuel', 'allow', 'visit', 'named', 'atlanta', 'never', 'arrested', 'labor', 'gains', 'bowl', 'rebels', 'officer', 'basketball', 'every', 'call', 'italian', 'holiday', 'survey', 'regulators', 'nfl', 'goal', 'college', 'eu', 'current', 'cbs', 'tv', 'dollars', 'boost', 'blue', 'sale', 'available', 'suspected', 'rivals', 'expectations', 'charged', 'investigation', 'ipod', 'democratic', 'drop', 'asked', 'rising', 'muslim', 'ceo', 'policy', 'philadelphia', 'holding', 'approved', 'planned', 'claimed', 'problems', 'order', 'nasdaq', 'hundreds', 'employees', 'sent', 'islamic', 'tournament', 'seen', 'detroit', 'unveiled', 'december', 'attempt', 'park', 'louis', 'strip', 'retail', 'decided', 'supply', 'winter', 'sold', 'cent', 'w', 'increased', 'color', 'town', 'try', 'ruling', 'flight', 'confirmed', 'fifth', 'asia', 'aid', 'captain', 'stake', 'arsenal', 'want', 'technologies', 'sign', 'turned', 'suicide', 'steve', 'singapore', 'moved', 'later', 'hospital', 'injury', 'guard', 'island', 'inning', 'equipment', 'threat', 'opened', 'double', 'runs', 'received', 'giving', 'worth', 'process', 'spokesman', 'fresh', 'given', 'terrorism', 'finance', 'staff', 'generation', 'average', 'applications', 'young', 'mike', 'crisis', 'touchdown', 'g', 'chance', 'groups', 'storage', 'ranked', 'turn', 'ground', 'building', 'aug', 'asian', 'c', 'black', 'summer', 'added', 'lines', 'enterprise', 'ending', 'playing', 'defeat', 'warning', 'wants', 'militant', 'medical', 'card', 'calls', 'minnesota', 'millions', 'forward', 'earth', 'bring', 'airways', 'advanced', 'though', 'prison', 'experts', 'sites', 'ivan', 'ready', 'create', 'blair', 'related', 'charge', 'challenge', 'sources', 'position', 'fears', 'missing', 'middle', 'hope', 'mission', 'body', 'played', 'alleged', 'focus', 'accounting', 'whose', 'safety', 'build', 'urged', 'soccer', 'risk', 'minutes', 'let', 'project', 'outlook', 'losing', 'special', 'event', 'able', 'range', 'director', 'spam', 'losses', 'johnson', 'entertainment', 'wounded', 'started', 'satellite', 'ruled', 'proposed', 'lawsuit', 'fraud', 'drugs', 'debt', 'water', 'along', 'closer', 'commercial', 'x', 'january', 'july', 'ireland', 'cuts', 'became', 'although', 'sharon', 'dow', 'returned', 'provider', 'committee', 'cricket', 'storm', 'hand', 'dutch', 'threatened', 'statement', 'credit', 'citing', 'leaving', 'jose', 'greece', 'push', 'insurgents', 'member', 'know', 'single', 'issue', 'interim', 'course', 'clear', 'beating', 'track', 'pro', 'ms', 'homes', 'woman', 'device', 'chips', 'mw', 'forced', 'evidence', 'congress', 'browser', 'organization', 'newspaper', 'leave', 'important', 'carrier', 'dec', 'camp', 'potential', 'golf', 'comes', 'care', 'airport', 'afghan', 'oakland', 'stage', 'ban', 'think', 'ryder', 'light', 'application', 'thought', 'terror', 'standard', 'scheduled', 'sans', 'offensive', 'met', 'huge', 'electronic', 'closed', 'wanted', 'palestinians', 'terrorist', 'offered', 'nyse', 'initial', 'rejected', 'issues', 'issued', 'brown', 'davis', 'bad', 'acquisition', 'singh', 'road', 'kept', 'claim', 'italy', 'dell', 'aircraft', 'heavy', 'role', 'eastern', 'dropped', 'virginia', 'send', 'recently', 'chain', 'ariel', 'shopping', 'fast', 'consecutive', 'wide', 'border', 'xp', 'rules', 'nba', 'justice', 'zealand', 'dvd', 'developed', 'total', 'seeking', 'afternoon', 'supplies', 'sending', 'najaf', 'hostile', 'front', 'verdana', 'serif', 'kidnapped', 'helvetica', 'built', 'attorney', 'arial', 'formula', 'struck', 'remains', 'remain', 'highest', 'firms', 'code', 'yukos', 'vice', 'tonight', 'threw', 'rocket', 'ministry', 'illegal', 'voters', 'prize', 'cisco', 'brought', 'sharply', 'memory', 'prix', 'travel', 'shows', 'moon', 'futures', 'spanish', 'published', 'together', 'miss', 'merger', 'hoping', 'supreme', 'rest', 'makes', 'scandal', 'figures', 'delhi', 'winner', 'striker', 'settle', 'host', 'confidence', 'slightly', 'result', 'movie', 'debate', 'controversial', 'saw', 'protection', 'negotiations', 'avoid', 'pace', 'develop', 'howard', 'deficit', 'break', 'something', 'fallujah', 'cleric', 'instead', 'carolina', 'spacecraft', 'pass', 'cleveland', 'classic', 'sector', 'revealed', 'question', 'plc', 'kong', 'hockey', 'expects', 'buying', 'appeared', 'previous', 'update', 'suspended', 'showing', 'needed', 'longer', 'kabul', 'jerusalem', 'explosion', 'delta', 'de', 'dallas', 'proposal', 'jason', 'hong', 'caused', 'acquire', 'touchdowns', 'tiger', 'operation', 'kansas', 'introduced', 'save', 'programs', 'problem', 'calling', 'republican', 'premier', 'features', 'decline', 'content', 'candidate', 'tim', 'shareholders', 'parliament', 'operator', 'woods', 'spent', 'slow', 'hollywood', 'parts', 'motor', 'joint', 'concern', 'boeing', 'banks', 'abu', 'training', 'tennis', 'servers', 'raise', 'intelligence', 'dispute', 'backed', 'wal', 'processor', 'form', 'base', 'yen', 'sydney', 'streak', 'ran', 'poor', 'extended', 'cardinals', 'advertising', 'mart', 'innings', 'draw', 'remained', 'mortgage', 'makers', 'machines', 'decades', 'arrived', 'session', 'science', 'james', 'chelsea', 'pulled', 'pcs', 'troubled', 'senate', 'qaeda', 'broadband', 'auto', 'associated', 'pittsburgh', 'changes', 'brazil', 'worldwide', 'probably', 'korean', 'yard', 'serious', 'reduce', 'moving', 'disney', 'stay', 'sharing', 'planning', 'cable', 'worst', 'industrial', 'virus', 'mexico', 'massive', 'funds', 'film', 'secure', 'producer', 'period', 'marketing', 'bn', 'astros', 'things', 'takes', 'beginning', 'roger', 'practice', 'ball', 'f', 'corporation', 'colin', 'believe', 'uranium', 'tehran', 'nextel', 'minute', 'linked', 'struggling', 'looks', 'weather', 'vladimir', 'tom', 'sprint', 'helping', 'civil', 'passed', 'join', 'broke', 'armed', 'goals', 'christmas', 'wounding', 'signs', 'row', 'ordered', 'jets', 'gain', 'damage', 'amd', 'watch', 'taiwan', 'success', 'room', 'raising', 'nokia', 'mid', 'masters', 'mass', 'complete', 'semiconductor', 'march', 'improve', 'holdings', 'continues', 'boss', 'arab', 'seconds', 'hour', 'rich', 'needs', 'century', 'worries', 'sanctions', 'pilots', 'manufacturing', 'baltimore', 'announce', 'miles', 'domestic', 'decade', 'spot', 'indonesia', 'facing', 'exploded', 'cutting', 'talk', 'ohio', 'mac', 'washingtonpost', 'trophy', 'recovery', 'plus', 'discovered', 'settlement', 'questions', 'protect', 'plant', 'finals', 'community', 'assault', 'playoff', 'plane', 'diego', 'bonds', 'rule', 'pitcher', 'pacific', 'impact', 'developing', 'appeal', 'stand', 'republic', 'putin', 'owner', 'microsystems', 'jump', 'inflation', 'easy', 'different', 'sport', 'platform', 'terms', 'strategy', 'sharp', 'racing', 'probe', 'income', 'falling', 'telecommunications', 'panel', 'pakistani', 'debut', 'setting', 'king', 'j', 'inside', 'download', 'traders', 'suffered', 'previously', 'pm', 'packard', 'hotel', 'breaking', 'venture', 'value', 'tomorrow', 'thanks', 'stewart', 'patriots', 'offers', 'hewlett', 'msn', 'daily', 'appears', 'tough', 'tools', 'surprise', 'missile', 'martin', 'fiscal', 'conflict', 'twice', 'richard', 'rain', 'province', 'michigan', 'levels', 'ford', 'arizona', 'thailand', 'sadr', 'numbers', 'kashmir', 'fla', 'areas', 'announcement', 'residents', 'paid', 'embassy', 'wild', 'tried', 'lawsuits', 'hits', 'guilty', 'express', 'allowed', 'surgery', 'faces', 'witnesses', 'filing', 'expand', 'voting', 'relief', 'highs', 'completed', 'brussels', 'becoming', 'warner', 'telephone', 'jumped', 'consider', 'auction', 'sixth', 'significant', 'joined', 'itunes', 'hurt', 'defending', 'approval', 'turkey', 'positive', 'passes', 'live', 'delayed', 'allegations', 'l', 'egypt', 'defensive', 'knee', 'june', 'image', 'hot', 'deadly', 'bit', 'zone', 'species', 'seventh', 'royal', 'often', 'majority', 'done', 'cause', 'budget', 'benefits', 'review', 'nhl', 'grew', 'sure', 'powell', 'handed', 'banking', 'awaited', 'assets', 'anaheim', 'alan', 'tool', 'saddam', 'qualifying', 'criminal', 'blow', 'package', 'historic', 'chris', 'weak', 'really', 'non', 'motors', 'magazine', 'independent', 'direct', 'critical', 'block', 'watchdog', 'ten', 'saudi', 'replace', 'montreal', 'missed', 'index', 'finished', 'award', 'story', 'ministers', 'message', 'jakarta', 'english', 'doctors', 'agent', 'upcoming', 'progress', 'core', 'class', 'bombing', 'add', 'looked', 'check', 'apparently', 'act', 'seems', 'prepared', 'nothing', 'homer', 'colorado', 'blast', 'utah', 'trip', 'rookie', 'ninth', 'nigeria', 'details', 'currency', 'bought', 'alex', 'lot', 'hands', 'display', 'adding', 'toll', 'resolution', 'par', 'jeff', 'hostages', 'heating', 'estimates', 'driver', 'dolphins', 'common', 'andy', 'sen', 'partners', 'mars', 'familiar', 'created', 'commerce', 'changed', 'alliance', 'treasury', 'students', 'r', 'purchase', 'karzai', 'include', 'firefox', 'considering', 'carlos', 'atomic', 'wake', 'sea', 'retailers', 'matter', 'jail', 'hamid', 'expansion', 'demands', 'computing', 'voted', 'successful', 'poll', 'living', 'disease', 'coalition', 'indianapolis', 'gulf', 'defence', 'crucial', 'crew', 'cars', 'atlantic', 'arms', 'thing', 'quickly', 'owners', 'os', 'opener', 'liverpool', 'lift', 'documents', 'screen', 'regional', 'protest', 'prince', 'peer', 'interview', 'flu', 'design', 'cancer', 'strength', 'stars', 'person', 'managers', 'involved', 'foot', 'flat', 'explorer', 'customer', 'bringing', 'super', 'speculation', 'prosecutors', 'irish', 'crowd', 'chart', 'blood', 'voice', 'traffic', 'testing', 'surged', 'standards', 'portable', 'output', 'natural', 'cents', 'barry', 'shiite', 'putting', 'hussein', 'expect', 'eighth', 'democracy', 'crashed', 'allows', 'tennessee', 'sudanese', 'pre', 'planet', 'offense', 'islamabad', 'declared', 'victims', 'treatment', 'rangers', 'immediately', 'cincinnati', 'fastest', 'draft', 'crash', 'commissioner', 'activity', 'summit', 'reportedly', 'preparing', 'finish', 'finding', 'entered', 'district', 'climate', 'arm', 'antitrust', 'vioxx', 'threats', 'tampa', 'records', 'headed', 'dozens', 'developer', 'boosted', 'ticker', 'land', 'kevin', 'format', 'bombs', 'allegedly', 'ag', 'regular', 'orders', 'nascar', 'hurricanes', 'hills', 'goods', 'enrichment', 'emergency', 'conditions', 'anticipated', 'scoring', 'resigned', 'ivory', 'improved', 'denver', 'denied', 'cubs', 'believed', 'associates', 'activities', 'sought', 'priority', 'joe', 'edition', 'carrying', 'believes', 'always', 'wales', 'vehicle', 'robert', 'notre', 'newly', 'nationwide', 'merck', 'includes', 'greek', 'enron', 'declined', 'date', 'begun', 'warming', 'rather', 'mets', 'hat', 'handheld', 'age', 'pack', 'mutual', 'evening', 'deadline', 'dame', 'convention', 'wrong', 'veteran', 'remaining', 'receiver', 'movies', 'delay', 'analyst', 'view', 'soldier', 'retirement', 'pp', 'owned', 'overnight', 'discuss', 'craig', 'continuing', 'championships', 'certain', 'admitted', 'ways', 'tight', 'ottawa', 'opec', 'info', 'increasingly', 'heat', 'hardware', 'agencies', 'via', 'threatening', 'supporters', 'score', 'hamas', 'eagles', 'cabinet', 'upset', 'terrorists', 'lawyers', 'files', 'decide', 'closing', 'cards', 'bodies', 'beyond', 'sir', 'remote', 'rare', 'property', 'pension', 'pair', 'nintendo', 'mozilla', 'micro', 'kill', 'gone', 'flights', 'exports', 'charles', 'tests', 'rallied', 'model', 'extra', 'county', 'unions', 'spyware', 'promised', 'nl', 'murder', 'vowed', 'directors', 'bears', 'word', 'widely', 'vehicles', 'turning', 'stroke', 'similar', 'lose', 'indiana', 'hole', 'ebay', 'donald', 'deep', 'van', 'tie', 'shooting', 'reason', 'photo', 'pedro', 'matches', 'indonesian', 'gets', 'gary', 'forecasts', 'wins', 'upgrade', 'telecom', 'smith', 'gunmen', 'angels', 'withdraw', 'tiny', 'ties', 'spend', 'rock', 'pushed', 'names', 'means', 'hp', 'candidates', 'authority', 'traditional', 'pick', 'launching', 'faced', 'driven', 'airbus', 'ukraine', 'situation', 'shut', 'seoul', 'placed', 'parties', 'overall', 'officers', 'berlin', 'ask', 'renewed', 'polls', 'images', 'cross', 'broken', 'brian', 'allowing', 'acquired', 'preliminary', 'patent', 'musharraf', 'expressed', 'attention', 'ability', 'wayne', 'steel', 'smaller', 'sides', 'response', 'pga', 'opportunity', 'larry', 'increasing', 'faster', 'book', 'advantage', 'stronger', 'seek', 'reporting', 'nikkei', 'links', 'hearing', 'georgia', 'edged', 'defeated', 'speech', 'separate', 'recording', 'investigating', 'eased', 'disappointing', 'bell', 'scotland', 'resume', 'oklahoma', 'novell', 'newsfactor', 'emerged', 'wife', 'vienna', 'sym', 'semi', 'schedule', 'ray', 'qtype', 'qcat', 'pull', 'professional', 'overtime', 'manning', 'iraqis', 'investor', 'infotype', 'greater', 'falluja', 'effect', 'deliver', 'wave', 'streets', 'request', 'pt', 'premiership', 'newcastle', 'martinez', 'jr', 'journal', 'extend', 'entire', 'electric', 'drove', 'claiming', 'bryant', 'brand', 'suit', 'refused', 'radical', 'options', 'moves', 'marathon', 'manufacturer', 'involving', 'holy', 'haiti', 'announcing', 'allawi', 'unless', 'sri', 'resources', 'picked', 'parent', 'jacques', 'comments', 'advance', 'solid', 'motion', 'laws', 'feature', 'expos', 'beach', 'user', 'unbeaten', 'shuttle', 'providers', 'partner', 'limited', 'lawmakers', 'heading', 'either', 'dodgers', 'copyright', 'cities', 'books', 'bin', 'virgin', 'shipping', 'picture', 'partnership', 'officially', 'leadership', 'keeping', 'jet', 'java', 'internal', 'hitting', 'governments', 'era', 'deputy', 'construction', 'cingular', 'appeals', 'stem', 'son', 'smart', 'seed', 'possibly', 'milan', 'jan', 'goes', 'eye', 'doubled', 'dominated', 'captured', 'approach', 'accept', 'swiss', 'rebounds', 'patients', 'jewish', 'insisted', 'capacity', 'taliban', 'reaching', 'mr', 'flash', 'everything', 'edge', 'crimes', 'withdrawal', 'train', 'technical', 'pervez', 'hall', 'earthquake', 'cuba', 'considered', 'cold', 'beta', 'wait', 'verizon', 'vendor', 'tackle', 'sex', 'ranking', 'jersey', 'disaster', 'website', 'votes', 'violent', 'trouble', 'surge', 'style', 'solution', 'shift', 'secret', 'samsung', 'relations', 'piracy', 'ongoing', 'la', 'kind', 'ice', 'halt', 'driving', 'compete', 'camera', 'songs', 'refugee', 'legislation', 'instant', 'fine', 'caught', 'broadcast', 'bills', 'attacked', 'walt', 'vendors', 'sets', 'scores', 'lows', 'highly', 'bigley', 'arrest', 'appear', 'throughout', 'theft', 'processors', 'lives', 'housing', 'dual', 'child', 'chances', 'carry', 'waiting', 'soaring', 'seeded', 'schools', 'ron', 'redskins', 'quite', 'prisoners', 'lifted', 'freed', 'environmental', 'centre', 'braves', 'watched', 'scientific', 'protocol', 'pitch', 'msft', 'fi', 'el', 'dozen', 'creating', 'aol', 'amazon', 'agree', 'ship', 'peter', 'lee', 'however', 'frank', 'failure', 'events', 'account', 'twins', 'targets', 'soft', 'philippines', 'perhaps', 'idea', 'doping', 'difficult', 'deals', 'communist', 'civilians', 'anyone', 'visiting', 'vijay', 'traded', 'pledged', 'mixed', 'laden', 'labour', 'gained', 'founder', 'federer', 'failing', 'fact', 'columbia', 'bus', 'bobby', 'bird', 'auburn', 'address', 'abuse', 'wi', 'thomas', 'social', 'signing', 'seized', 'scott', 'provided', 'pleaded', 'option', 'machine', 'jury', 'drew', 'dramatic', 'read', 'prevent', 'messages', 'greenspan', 'choice', 'april', 'antonio', 'pushing', 'paying', 'mp', 'figure', 'doubt', 'channel', 'annan', 'winds', 'solar', 'shock', 'port', 'perfect', 'onto', 'grow', 'governor', 'foundation', 'enter', 'elected', 'dangerous', 'predicted', 'postseason', 'pacers', 'orleans', 'orlando', 'monetary', 'heard', 'graphics', 'fannie', 'convicted', 'bottom', 'uefa', 'suffering', 'southeast', 'seemed', 'saturn', 'receive', 'messaging', 'massachusetts', 'marsh', 'criticism', 'born', 'sentenced', 'rockets', 'returning', 'offset', 'measures', 'martha', 'kofi', 'ken', 'increases', 'franchise', 'fellow', 'egyptian', 'described', 'usa', 'slipped', 'quit', 'passenger', 'networking', 'mae', 'lewis', 'gordon', 'connection', 'bob', 'va', 'stopped', 'shots', 'self', 'seasons', 'pitched', 'page', 'forest', 'fighters', 'embattled', 'ease', 'dismissed', 'broker', 'bangladesh', 'unlikely', 'studios', 'spring', 'preseason', 'potentially', 'opponents', 'explosives', 'developers', 'chase', 'viruses', 'sued', 'steps', 'planes', 'injuries', 'gates', 'frances', 'equity', 'corruption', 'climbed', 'au', 'argentina', 'subscribers', 'schilling', 'restructuring', 'multi', 'lay', 'jim', 'jack', 'improving', 'database', 'bombings', 'anything', 'words', 'towards', 'titan', 'stepped', 'sbc', 'practices', 'managed', 'lack', 'joining', 'injuring', 'competitive', 'clash', 'boy', 'anniversary', 'tigers', 'talking', 'produced', 'love', 'leg', 'ip', 'fought', 'everyone', 'carried', 'begins', 'assistant', 'works', 'torn', 'status', 'square', 'matt', 'introduce', 'gaming', 'environment', 'curt', 'causing', 'brazilian', 'ali', 'units', 'typhoon', 'sunni', 'serving', 'roddick', 'responsible', 'lineup', 'lanka', 'inventories', 'h', 'flying', 'desert', 'delivered', 'barcelona', 'additional', 'worm', 'territory', 'safe', 'representatives', 'programme', 'patch', 'netherlands', 'mining', 'ii', 'gives', 'friendly', 'demanding', 'zimbabwe', 'resolve', 'poised', 'lowest', 'landmark', 'industries', 'friends', 'expanded', 'earned', 'compared', 'circuit', 'austria', 'arthritis', 'alive', 'toshiba', 'successfully', 'seem', 'rescue', 'reduced', 'passengers', 'infrastructure', 'illegally', 'expanding', 'engineers', 'diplomats', 'closely', 'beckham', 'accounts', 'steady', 'squad', 'sky', 'rolled', 'ravens', 'produce', 'morgan', 'lawyer', 'largely', 'jean', 'helicopter', 'fly', 'education', 'cover', 'controlled', 'universal', 'taxes', 'solutions', 'reform', 'recall', 'providing', 'plays', 'osama', 'militia', 'meter', 'kobe', 'justin', 'insurgent', 'fish', 'deaths', 'cannot', 'assembly', 'agents', 'writes', 'venezuela', 'tied', 'tell', 'spread', 'presence', 'multiple', 'lake', 'investigators', 'hewitt', 'heavyweight', 'fear', 'contracts', 'coaches', 'andre', 'vs', 'syria', 'suggested', 'steelers', 'seat', 'pictures', 'phoenix', 'manufacturers', 'larger', 'iranian', 'hear', 'hamm', 'emerging', 'drives', 'drivers', 'combat', 'ceremony', 'cassini', 'bomber', 'banned', 'appointed', 'apparent', 'subsidiary', 'sound', 'retired', 'quality', 'models', 'mine', 'language', 'knew', 'kidnappers', 'ill', 'feel', 'distribution', 'benefit', 'aside', 'ad', 'turkish', 'strategic', 'silicon', 'rooney', 'rome', 'resignation', 'mind', 'individual', 'identity', 'headquarters', 'focused', 'comeback', 'colts', 'collapse', 'clashes', 'catch', 'astronauts', 'ankle', 'wind', 'stephen', 'plot']\n"
     ]
    }
   ],
   "source": [
    "# this will create a vocabulary of the top 2500 words and then convert the text to a sequence of numbers\n",
    "vocab_size = 2500 # how many of the most frequent words to keep\n",
    "sequence_length = 30 # how many words we use to represent a description\n",
    "vectorizer = TextVectorization(max_tokens=vocab_size, output_sequence_length=sequence_length)\n",
    "# fit the vectorizer on the training data (find the most common words and assign values to them)\n",
    "vectorizer.adapt(train_data_list)\n",
    "# show the selected words\n",
    "print(vectorizer.get_vocabulary())"
   ]
  },
  {
   "cell_type": "code",
   "execution_count": 25,
   "metadata": {},
   "outputs": [
    {
     "name": "stdout",
     "output_type": "stream",
     "text": [
      "(96000, 30)\n"
     ]
    }
   ],
   "source": [
    "# vectorize the training data (replace words by their associated values)\n",
    "train_data_vectorized = vectorizer(train_data_list)\n",
    "# vectorize the validation data\n",
    "validation_data_vectorized = vectorizer(validation_data_list)\n",
    "# vectorize the test data\n",
    "test_data_vectorized = vectorizer(test_data_list)\n",
    "# this shape shows that we have our 96000 training examples, each as a vector of 30 integers\n",
    "print(train_data_vectorized.shape)"
   ]
  },
  {
   "cell_type": "code",
   "execution_count": 26,
   "metadata": {},
   "outputs": [
    {
     "name": "stdout",
     "output_type": "stream",
     "text": [
      "tf.Tensor(\n",
      "[   1    1    1 1950  634    1    1   23    1    1    1  238  443    7\n",
      "  526  159   11    0    0    0    0    0    0    0    0    0    0    0\n",
      "    0    0], shape=(30,), dtype=int64)\n"
     ]
    }
   ],
   "source": [
    "# see how a vectorized news description looks like\n",
    "print(train_data_vectorized[1])"
   ]
  },
  {
   "attachments": {},
   "cell_type": "markdown",
   "metadata": {},
   "source": [
    "We then build a RNN.\n",
    "\n",
    "We use an *Embedding layer* to convert the integer sequences to embeddings. You can read about how this works [here](https://www.tensorflow.org/api_docs/python/tf/keras/layers/Embedding).\n",
    "\n",
    "The Bidirectional layer takes the input and passes it forwards and backwards through the LSTM (Long-Short Term Memory) layer. It allows the network to learn the context of the sentence in both directions, so information from both previous and following words is taken into account.\n"
   ]
  },
  {
   "cell_type": "code",
   "execution_count": 27,
   "metadata": {},
   "outputs": [
    {
     "name": "stdout",
     "output_type": "stream",
     "text": [
      "Model: \"sequential_2\"\n",
      "_________________________________________________________________\n",
      " Layer (type)                Output Shape              Param #   \n",
      "=================================================================\n",
      " embedding_2 (Embedding)     (None, None, 32)          80000     \n",
      "                                                                 \n",
      " bidirectional_2 (Bidirectio  (None, 64)               16640     \n",
      " nal)                                                            \n",
      "                                                                 \n",
      " dense_2 (Dense)             (None, 4)                 260       \n",
      "                                                                 \n",
      "=================================================================\n",
      "Total params: 96,900\n",
      "Trainable params: 96,900\n",
      "Non-trainable params: 0\n",
      "_________________________________________________________________\n",
      "Epoch 1/5\n",
      "750/750 [==============================] - 45s 48ms/step - loss: 0.4813 - accuracy: 0.8232 - val_loss: 0.3393 - val_accuracy: 0.8838\n",
      "Epoch 2/5\n",
      "750/750 [==============================] - 28s 37ms/step - loss: 0.3211 - accuracy: 0.8895 - val_loss: 0.3316 - val_accuracy: 0.8857\n",
      "Epoch 3/5\n",
      "750/750 [==============================] - 27s 36ms/step - loss: 0.3028 - accuracy: 0.8935 - val_loss: 0.3269 - val_accuracy: 0.8852\n",
      "Epoch 4/5\n",
      "750/750 [==============================] - 27s 36ms/step - loss: 0.2909 - accuracy: 0.8977 - val_loss: 0.3251 - val_accuracy: 0.8848\n",
      "Epoch 5/5\n",
      "750/750 [==============================] - 28s 37ms/step - loss: 0.2805 - accuracy: 0.8991 - val_loss: 0.3269 - val_accuracy: 0.8855\n",
      "238/238 [==============================] - 3s 8ms/step\n",
      "Test Set Accuracy:  0.8835526315789474\n"
     ]
    },
    {
     "data": {
      "text/plain": [
       "<Axes: >"
      ]
     },
     "execution_count": 27,
     "metadata": {},
     "output_type": "execute_result"
    },
    {
     "data": {
      "image/png": "[encoded data removed]",
      "text/plain": [
       "<Figure size 1000x700 with 2 Axes>"
      ]
     },
     "metadata": {},
     "output_type": "display_data"
    }
   ],
   "source": [
    "model = Sequential()\n",
    "model.add(Embedding(vocab_size, 32))\n",
    "model.add(Bidirectional(LSTM(32)))\n",
    "model.add(Dense(4, activation=\"softmax\"))\n",
    "\n",
    "model.summary()\n",
    "\n",
    "# compile the model\n",
    "model.compile(loss=\"categorical_crossentropy\", optimizer=\"adam\", metrics=[\"accuracy\"])\n",
    "\n",
    "# fit the model\n",
    "model.fit(\n",
    "    train_data_vectorized,\n",
    "    train_labels,\n",
    "    epochs=5,\n",
    "    batch_size=128,\n",
    "    verbose=1,\n",
    "    validation_data=(validation_data_vectorized, validation_labels),\n",
    ")\n",
    "\n",
    "# predict the labels on the test data\n",
    "rnn_predictions = model.predict(test_data_vectorized)\n",
    "# since predictions are one-hot encoded, we convert them to an int label taking the output with higher value\n",
    "rnn_predictions = np.argmax(rnn_predictions, axis=1)\n",
    "\n",
    "# calculate the accuracy score\n",
    "accuracy = accuracy_score(test_labels_list, rnn_predictions)\n",
    "print(\"Test Set Accuracy: \", accuracy)\n",
    "# create a confusion matrix\n",
    "cm = confusion_matrix(test_labels_list, rnn_predictions)\n",
    "# plot the confusion matrix\n",
    "plt.figure(figsize=(10, 7))\n",
    "sns.heatmap(cm, annot=True, fmt=\"d\", xticklabels=label_names, yticklabels=label_names)"
   ]
  },
  {
   "attachments": {},
   "cell_type": "markdown",
   "metadata": {},
   "source": [
    "# TODO 3: Creating Example Predictions\n"
   ]
  },
  {
   "cell_type": "code",
   "execution_count": 34,
   "metadata": {},
   "outputs": [
    {
     "name": "stdout",
     "output_type": "stream",
     "text": [
      "1/1 [==============================] - 0s 135ms/step\n",
      "NN classifier prediction:  World News\n",
      "NN classifier prediction:  Sports News\n",
      "NN classifier prediction:  Business News\n",
      "NN classifier prediction:  Sci/Tech News\n",
      "NN classifier prediction:  Business News\n"
     ]
    }
   ],
   "source": [
    "sample_news = list()\n",
    "# TODO 3: create some fresh sample news (copy them from a news site like BBC) then see if the model can predict the correct labels\n",
    "# Use one example per class\n",
    "sample_news.append(\"Maine's top election official has ruled that Donald Trump cannot run for president next year in the state, citing a constitutional insurrection clause.\")\n",
    "sample_news.append(\"Real Madrid manager Carlo Ancelotti has signed a new deal with the club which will run until June 2026.\")\n",
    "sample_news.append(\"House prices have ended the year 1.8% lower, according to Nationwide which forecasts no growth or a further fall in 2024.\")\n",
    "sample_news.append(\"The robot's basic requirement was to survey an ancient crater lake and to collect rocks that would aid the quest to identify evidence for past life.\")\n",
    "# Also, find one example that gets misclassified and discuss why it might happen in the markdown above.\n",
    "sample_news.append(\"Pornhub's parent company has agreed to make payments of $1.8m (£1.42m) to the US government to resolve allegations of profiting from sex trafficking.US officials said Aylo had [turned] a blind eye to reports that women were deceived and coerced into videos appearing on the site.\")\n",
    "\n",
    "# preprocess the sample news\n",
    "sample_news = [preprocess_text(i) for i in sample_news]\n",
    "sample_news = remove_stopwords(sample_news)\n",
    "\n",
    "# vectorize the sample news\n",
    "sample_news_vectorized = vectorizer(sample_news)\n",
    "\n",
    "# predict using the neural network\n",
    "prediction = model.predict(sample_news_vectorized)\n",
    "prediction = np.argmax(prediction, axis=1)\n",
    "for i in prediction:\n",
    "     print(\"NN classifier prediction: \", label_names[prediction[i]], \"News\")\n"
   ]
  },
  {
   "cell_type": "markdown",
   "metadata": {},
   "source": [
    "## Misclassification in News Classification\n",
    "\n",
    "In \"TODO 3\" of my coursework, I observed a misclassification issue with the last sample news piece. The model incorrectly categorized a technology-related article as business news. Reflecting on this, a few key reasons stand out:\n",
    "\n",
    "### Financial Elements\n",
    "The article's mention of a $1.8m settlement likely swayed the model, as such financial details are commonly associated with business news.\n",
    "\n",
    "### Lack of Explicit Tech Terminology\n",
    "Although the article was about a technology platform, it didn't prominently feature tech-specific language. The focus on legal and financial matters possibly led the model to lean towards a business classification.\n",
    "\n",
    "### Complex Thematic Nature\n",
    "The article blended technology, legal, and ethical issues. This complexity could be challenging for the model if its training predominantly involved more straightforward, singularly themed articles.\n"
   ]
  },
  {
   "attachments": {},
   "cell_type": "markdown",
   "metadata": {},
   "source": [
    "## TODO 4: Create a new model [2]"
   ]
  },
  {
   "cell_type": "code",
   "execution_count": 35,
   "metadata": {},
   "outputs": [
    {
     "name": "stdout",
     "output_type": "stream",
     "text": [
      "Epoch 1/5\n",
      "750/750 [==============================] - 15s 18ms/step - loss: 0.4586 - accuracy: 0.8320 - val_loss: 0.3392 - val_accuracy: 0.8829\n",
      "Epoch 2/5\n",
      "750/750 [==============================] - 14s 18ms/step - loss: 0.3155 - accuracy: 0.8888 - val_loss: 0.3330 - val_accuracy: 0.8832\n",
      "Epoch 3/5\n",
      "750/750 [==============================] - 12s 15ms/step - loss: 0.2871 - accuracy: 0.8977 - val_loss: 0.3312 - val_accuracy: 0.8839\n",
      "Epoch 4/5\n",
      "750/750 [==============================] - 13s 17ms/step - loss: 0.2537 - accuracy: 0.9110 - val_loss: 0.3371 - val_accuracy: 0.8832\n",
      "Epoch 5/5\n",
      "750/750 [==============================] - 12s 16ms/step - loss: 0.2144 - accuracy: 0.9245 - val_loss: 0.3677 - val_accuracy: 0.8798\n",
      "238/238 [==============================] - 1s 4ms/step\n",
      "Test Set Accuracy:  0.8747368421052631\n"
     ]
    },
    {
     "data": {
      "image/png": "[encoded data removed]",
      "text/plain": [
       "<Figure size 1000x700 with 2 Axes>"
      ]
     },
     "metadata": {},
     "output_type": "display_data"
    }
   ],
   "source": [
    "# TODO 4\n",
    "from keras.models import Sequential\n",
    "from keras.layers import Embedding, Conv1D, MaxPooling1D, GlobalMaxPooling1D, Dense\n",
    "from keras.metrics import Accuracy\n",
    "from sklearn.metrics import accuracy_score, confusion_matrix\n",
    "import matplotlib.pyplot as plt\n",
    "import seaborn as sns\n",
    "\n",
    "\n",
    "model = Sequential()\n",
    "model.add(Embedding(vocab_size, 32))\n",
    "model.add(Conv1D(64, 5, activation='relu'))\n",
    "model.add(MaxPooling1D(pool_size=4))\n",
    "model.add(Conv1D(128, 5, activation='relu'))\n",
    "model.add(GlobalMaxPooling1D())\n",
    "model.add(Dense(4, activation=\"softmax\"))\n",
    "\n",
    "# Compile the model\n",
    "model.compile(loss=\"categorical_crossentropy\", optimizer=\"adam\", metrics=[\"accuracy\"])\n",
    "\n",
    "# Fit the model\n",
    "model.fit(\n",
    "    train_data_vectorized,\n",
    "    train_labels,\n",
    "    epochs=5,\n",
    "    batch_size=128,\n",
    "    verbose=1,\n",
    "    validation_data=(validation_data_vectorized, validation_labels)\n",
    ")\n",
    "\n",
    "# Predict the labels on the test data\n",
    "cnn_predictions = model.predict(test_data_vectorized)\n",
    "# Convert predictions to int labels\n",
    "cnn_predictions = np.argmax(cnn_predictions, axis=1)\n",
    "\n",
    "# Calculate the accuracy score\n",
    "accuracy = accuracy_score(test_labels_list, cnn_predictions)\n",
    "print(\"Test Set Accuracy: \", accuracy)\n",
    "\n",
    "# Create a confusion matrix\n",
    "cm = confusion_matrix(test_labels_list, cnn_predictions)\n",
    "\n",
    "# Plot the confusion matrix\n",
    "plt.figure(figsize=(10, 7))\n",
    "sns.heatmap(cm, annot=True, fmt=\"d\", xticklabels=label_names, yticklabels=label_names)\n",
    "plt.show()\n"
   ]
  },
  {
   "cell_type": "markdown",
   "metadata": {},
   "source": [
    "## Analysis of Preprocessing Steps and Model Architectures\n",
    "\n",
    "### To Do 1: Removing HTML Code and News Agency Names\n",
    "\n",
    "**Observation**: After these preprocessing steps, the accuracy of our LSTM model slightly decreased from 0.8876 to 0.8836.\n",
    "\n",
    "**Discussion**: These steps aimed to clean the data by removing elements that were presumed to be irrelevant or noise, such as HTML tags and news agency names. The initial assumption might be that removing such noise should enhance model performance by focusing on more relevant text features. However, the slight decrease in accuracy suggests two possibilities:\n",
    "\n",
    "1. **Contextual Loss**: News agency names could carry contextual significance, potentially offering stylistic or thematic cues that the model was exploiting. Their removal, therefore, might have stripped away some useful information.\n",
    "\n",
    "2. **Generalization vs. Overfitting**: A higher accuracy with 'noisier' data could indicate overfitting, where the model learns patterns specific to the training data that don't generalize well. While the reduced accuracy seems negative, it might suggest that the model is now relying less on these specific cues and potentially generalizing better.\n",
    "\n",
    "### To Do 2: Applying Stemming\n",
    "\n",
    "**Observation**: The application of stemming improved the accuracy to 0.8897.\n",
    "\n",
    "**Discussion**: Stemming reduces words to their base or root form, which helps in consolidating the different variations of a word into a single, standard form. This process can aid the model in focusing on the essence of the word rather than its syntactical variations, leading to a more generalized understanding of the text. The improvement in accuracy indicates that this consolidation of word forms likely helped the model in making more accurate predictions by focusing on the core meaning of words.\n",
    "\n",
    "### To Do 4: Changing the Model to a 1D CNN\n",
    "\n",
    "**Observation**: Switching to a 1D CNN model yielded an accuracy of 0.8805, which is slightly lower than the LSTM model with stemming.\n",
    "\n",
    "**Discussion**: CNNs, being adept at capturing spatial hierarchies in data, are generally more efficient in processing data where local patterns are more significant (such as in image recognition tasks). In text analysis, however, the performance of CNNs can vary depending on the nature of the dataset and the task. \n",
    "\n",
    "1. **Local vs. Sequential Dependencies**: CNNs might not capture long-term dependencies and sequential context in text as effectively as LSTMs, which could explain the slight drop in performance.\n",
    "\n",
    "2. **Model Complexity and Task Suitability**: The specific architecture of the CNN (number of layers, filter sizes, etc.) plays a crucial role. It’s possible that the chosen architecture was not optimal for this task, or that LSTM's ability to capture sequential information in text is more suited for this particular dataset and task. [3]\n",
    "\n",
    "### Overall Implications for Model Development\n",
    "\n",
    "The steps undertaken provide valuable insights into how different preprocessing techniques and model architectures can impact performance. The key takeaway is that while certain standard practices (like data cleaning and noise reduction) are generally beneficial, their impact can vary depending on the dataset and the problem context. Similarly, the choice of model architecture must align with the nature of the data and the specific requirements of the task. It’s also crucial to consider a range of performance metrics and not rely solely on accuracy, especially in cases of class imbalances or when other aspects of model performance (like precision or recall) are critical.\n",
    "\n",
    "This iterative process of experimenting with data preprocessing and model architectures is central to developing effective machine learning models. It underscores the importance of understanding both the data and the models to make informed decisions that enhance model performance and generalizability.\n"
   ]
  }
 ],
 "metadata": {
  "kernelspec": {
   "display_name": "Python 3.10.4 ('AIML')",
   "language": "python",
   "name": "python3"
  },
  "language_info": {
   "codemirror_mode": {
    "name": "ipython",
    "version": 3
   },
   "file_extension": ".py",
   "mimetype": "text/x-python",
   "name": "python",
   "nbconvert_exporter": "python",
   "pygments_lexer": "ipython3",
   "version": "3.9.18"
  },
  "orig_nbformat": 4,
  "vscode": {
   "interpreter": {
    "hash": "977335c72b126e3991b9de8b6fc74c7a8bf9097191ab51ecd2769bb8eacdf950"
   }
  }
 },
 "nbformat": 4,
 "nbformat_minor": 2
}
